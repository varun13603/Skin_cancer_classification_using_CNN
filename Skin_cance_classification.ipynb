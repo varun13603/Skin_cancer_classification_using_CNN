{
 "cells": [
  {
   "cell_type": "markdown",
   "metadata": {
    "id": "PdUxjmfownUy"
   },
   "source": [
    "# Skin_Cancer_Detection using CNN"
   ]
  },
  {
   "cell_type": "markdown",
   "metadata": {
    "id": "_WEqtd_FwnU5"
   },
   "source": [
    "## The dataset consists of 10015 dermatoscopic images which can serve as a training set for academic machine learning purposes. The objective to build deep learning model to classify given query image into one of the 7 different classes of skin cancer."
   ]
  },
  {
   "cell_type": "markdown",
   "metadata": {
    "id": "78ZwJ3EGwnU7"
   },
   "source": [
    "#### Sourses:\n",
    "Data: https://www.kaggle.com/kmader/skin-cancer-mnist-ham10000"
   ]
  },
  {
   "cell_type": "markdown",
   "metadata": {
    "id": "WZnWmP-JwnU8"
   },
   "source": [
    "This the HAM10000 (\"Human Against Machine with 10000 training images\") dataset.It consists of 10015 dermatoscopicimages which are released as a training set for academic machine learning purposes and are publiclyavailable through the ISIC archive. This benchmark dataset can be used for machine learning and for comparisons with human experts.\n",
    "\n",
    "It has 7 different classes of skin cancer which are listed below :\n",
    "1. Melanocytic nevi\n",
    "2. Melanoma\n",
    "3. Benign keratosis-like lesions\n",
    "4. Basal cell carcinoma\n",
    "5. Actinic keratoses\n",
    "6. Vascular lesions\n",
    "7. Dermatofibroma\n",
    "\n",
    "Here I will try to detect 7 different classes of skin cancer using Convolution Neural Network with keras tensorflow in backend and then analyse the result to see how the model can be useful in practical scenario.\n",
    "We will move step by step process to classify 7 classes of cancer."
   ]
  },
  {
   "cell_type": "markdown",
   "metadata": {
    "id": "g87hZJFUwVcc"
   },
   "source": [
    "In this kernel I have followed following 14 steps for model building and evaluation which are as follows :\n",
    "\n",
    "Step 1: Importing Essential Libraries\n",
    "\n",
    "Step 2: Loading data and Making labels\n",
    "\n",
    "Step 3: Train Test Split\n",
    "\n",
    "Step 4: Exploratory data analysis (EDA)\n",
    "\n",
    "Step 5: Model Building (CNN)\n",
    "\n",
    "Step 6: Setting Optimizer & Annealing\n",
    "\n",
    "Step 7: Fitting the model\n",
    "\n",
    "Step 8: Model Evaluation"
   ]
  },
  {
   "cell_type": "markdown",
   "metadata": {
    "id": "CITglgXP2wiK"
   },
   "source": [
    "# Step 1: Importing Essential Libraries"
   ]
  },
  {
   "cell_type": "code",
   "execution_count": 1,
   "metadata": {
    "id": "kES_rD67rrG6"
   },
   "outputs": [],
   "source": [
    "import pandas as pd\n",
    "import numpy as np\n",
    "import warnings \n",
    "warnings.filterwarnings('ignore')"
   ]
  },
  {
   "cell_type": "markdown",
   "metadata": {
    "id": "Xp6IRzqhu1Q9"
   },
   "source": [
    "# Step 2: Loading data and Making labels"
   ]
  },
  {
   "cell_type": "code",
   "execution_count": 2,
   "metadata": {
    "id": "g7tDvsg5sNZK"
   },
   "outputs": [],
   "source": [
    "#Dataset used: https://www.kaggle.com/kmader/skin-cancer-mnist-ham10000\n",
    "\n",
    "path='hmnist_28_28_RGB.csv'#'hmnist_28_28_RGB.csv'"
   ]
  },
  {
   "cell_type": "code",
   "execution_count": 3,
   "metadata": {
    "id": "TSlPUvq-sfo4"
   },
   "outputs": [],
   "source": [
    "df=pd.read_csv(path)"
   ]
  },
  {
   "cell_type": "code",
   "execution_count": 4,
   "metadata": {
    "colab": {
     "base_uri": "https://localhost:8080/",
     "height": 299
    },
    "id": "-XZB67tXslAf",
    "outputId": "bf1e7171-0aea-487a-8835-d052283ea720"
   },
   "outputs": [
    {
     "data": {
      "text/html": [
       "<div>\n",
       "<style scoped>\n",
       "    .dataframe tbody tr th:only-of-type {\n",
       "        vertical-align: middle;\n",
       "    }\n",
       "\n",
       "    .dataframe tbody tr th {\n",
       "        vertical-align: top;\n",
       "    }\n",
       "\n",
       "    .dataframe thead th {\n",
       "        text-align: right;\n",
       "    }\n",
       "</style>\n",
       "<table border=\"1\" class=\"dataframe\">\n",
       "  <thead>\n",
       "    <tr style=\"text-align: right;\">\n",
       "      <th></th>\n",
       "      <th>pixel0000</th>\n",
       "      <th>pixel0001</th>\n",
       "      <th>pixel0002</th>\n",
       "      <th>pixel0003</th>\n",
       "      <th>pixel0004</th>\n",
       "      <th>pixel0005</th>\n",
       "      <th>pixel0006</th>\n",
       "      <th>pixel0007</th>\n",
       "      <th>pixel0008</th>\n",
       "      <th>pixel0009</th>\n",
       "      <th>...</th>\n",
       "      <th>pixel2343</th>\n",
       "      <th>pixel2344</th>\n",
       "      <th>pixel2345</th>\n",
       "      <th>pixel2346</th>\n",
       "      <th>pixel2347</th>\n",
       "      <th>pixel2348</th>\n",
       "      <th>pixel2349</th>\n",
       "      <th>pixel2350</th>\n",
       "      <th>pixel2351</th>\n",
       "      <th>label</th>\n",
       "    </tr>\n",
       "  </thead>\n",
       "  <tbody>\n",
       "    <tr>\n",
       "      <th>10010</th>\n",
       "      <td>183</td>\n",
       "      <td>165</td>\n",
       "      <td>181</td>\n",
       "      <td>182</td>\n",
       "      <td>165</td>\n",
       "      <td>180</td>\n",
       "      <td>184</td>\n",
       "      <td>166</td>\n",
       "      <td>182</td>\n",
       "      <td>188</td>\n",
       "      <td>...</td>\n",
       "      <td>208</td>\n",
       "      <td>185</td>\n",
       "      <td>187</td>\n",
       "      <td>208</td>\n",
       "      <td>186</td>\n",
       "      <td>186</td>\n",
       "      <td>206</td>\n",
       "      <td>187</td>\n",
       "      <td>189</td>\n",
       "      <td>0</td>\n",
       "    </tr>\n",
       "    <tr>\n",
       "      <th>10011</th>\n",
       "      <td>2</td>\n",
       "      <td>3</td>\n",
       "      <td>1</td>\n",
       "      <td>38</td>\n",
       "      <td>33</td>\n",
       "      <td>32</td>\n",
       "      <td>121</td>\n",
       "      <td>104</td>\n",
       "      <td>103</td>\n",
       "      <td>132</td>\n",
       "      <td>...</td>\n",
       "      <td>96</td>\n",
       "      <td>79</td>\n",
       "      <td>76</td>\n",
       "      <td>24</td>\n",
       "      <td>23</td>\n",
       "      <td>21</td>\n",
       "      <td>3</td>\n",
       "      <td>4</td>\n",
       "      <td>1</td>\n",
       "      <td>0</td>\n",
       "    </tr>\n",
       "    <tr>\n",
       "      <th>10012</th>\n",
       "      <td>132</td>\n",
       "      <td>118</td>\n",
       "      <td>118</td>\n",
       "      <td>167</td>\n",
       "      <td>149</td>\n",
       "      <td>149</td>\n",
       "      <td>175</td>\n",
       "      <td>156</td>\n",
       "      <td>160</td>\n",
       "      <td>184</td>\n",
       "      <td>...</td>\n",
       "      <td>204</td>\n",
       "      <td>181</td>\n",
       "      <td>178</td>\n",
       "      <td>181</td>\n",
       "      <td>159</td>\n",
       "      <td>153</td>\n",
       "      <td>172</td>\n",
       "      <td>151</td>\n",
       "      <td>145</td>\n",
       "      <td>0</td>\n",
       "    </tr>\n",
       "    <tr>\n",
       "      <th>10013</th>\n",
       "      <td>160</td>\n",
       "      <td>124</td>\n",
       "      <td>146</td>\n",
       "      <td>164</td>\n",
       "      <td>131</td>\n",
       "      <td>152</td>\n",
       "      <td>167</td>\n",
       "      <td>127</td>\n",
       "      <td>146</td>\n",
       "      <td>169</td>\n",
       "      <td>...</td>\n",
       "      <td>185</td>\n",
       "      <td>162</td>\n",
       "      <td>167</td>\n",
       "      <td>184</td>\n",
       "      <td>157</td>\n",
       "      <td>166</td>\n",
       "      <td>185</td>\n",
       "      <td>162</td>\n",
       "      <td>172</td>\n",
       "      <td>0</td>\n",
       "    </tr>\n",
       "    <tr>\n",
       "      <th>10014</th>\n",
       "      <td>175</td>\n",
       "      <td>142</td>\n",
       "      <td>121</td>\n",
       "      <td>181</td>\n",
       "      <td>150</td>\n",
       "      <td>134</td>\n",
       "      <td>181</td>\n",
       "      <td>150</td>\n",
       "      <td>133</td>\n",
       "      <td>178</td>\n",
       "      <td>...</td>\n",
       "      <td>159</td>\n",
       "      <td>79</td>\n",
       "      <td>82</td>\n",
       "      <td>174</td>\n",
       "      <td>137</td>\n",
       "      <td>125</td>\n",
       "      <td>175</td>\n",
       "      <td>139</td>\n",
       "      <td>126</td>\n",
       "      <td>6</td>\n",
       "    </tr>\n",
       "  </tbody>\n",
       "</table>\n",
       "<p>5 rows × 2353 columns</p>\n",
       "</div>"
      ],
      "text/plain": [
       "       pixel0000  pixel0001  pixel0002  pixel0003  pixel0004  pixel0005  \\\n",
       "10010        183        165        181        182        165        180   \n",
       "10011          2          3          1         38         33         32   \n",
       "10012        132        118        118        167        149        149   \n",
       "10013        160        124        146        164        131        152   \n",
       "10014        175        142        121        181        150        134   \n",
       "\n",
       "       pixel0006  pixel0007  pixel0008  pixel0009  ...  pixel2343  pixel2344  \\\n",
       "10010        184        166        182        188  ...        208        185   \n",
       "10011        121        104        103        132  ...         96         79   \n",
       "10012        175        156        160        184  ...        204        181   \n",
       "10013        167        127        146        169  ...        185        162   \n",
       "10014        181        150        133        178  ...        159         79   \n",
       "\n",
       "       pixel2345  pixel2346  pixel2347  pixel2348  pixel2349  pixel2350  \\\n",
       "10010        187        208        186        186        206        187   \n",
       "10011         76         24         23         21          3          4   \n",
       "10012        178        181        159        153        172        151   \n",
       "10013        167        184        157        166        185        162   \n",
       "10014         82        174        137        125        175        139   \n",
       "\n",
       "       pixel2351  label  \n",
       "10010        189      0  \n",
       "10011          1      0  \n",
       "10012        145      0  \n",
       "10013        172      0  \n",
       "10014        126      6  \n",
       "\n",
       "[5 rows x 2353 columns]"
      ]
     },
     "execution_count": 4,
     "metadata": {},
     "output_type": "execute_result"
    }
   ],
   "source": [
    "df.tail()"
   ]
  },
  {
   "cell_type": "markdown",
   "metadata": {
    "id": "Y4Cw9UFa1rsr"
   },
   "source": [
    "# Step 3: Train Test Split"
   ]
  },
  {
   "cell_type": "code",
   "execution_count": 5,
   "metadata": {
    "id": "iILXCW2hsoDl"
   },
   "outputs": [],
   "source": [
    "fractions=np.array([0.8,0.2])\n",
    "\n",
    "df=df.sample(frac=1)\n",
    "\n",
    "train_set, test_set = np.array_split(df, (fractions[:-1].cumsum() * len(df)).astype(int))"
   ]
  },
  {
   "cell_type": "code",
   "execution_count": 6,
   "metadata": {
    "colab": {
     "base_uri": "https://localhost:8080/"
    },
    "id": "As38rXlQs1PY",
    "outputId": "2fea275b-f97f-413f-90ca-fbe82daa4972"
   },
   "outputs": [
    {
     "name": "stdout",
     "output_type": "stream",
     "text": [
      "8012\n"
     ]
    }
   ],
   "source": [
    "print(len(train_set))"
   ]
  },
  {
   "cell_type": "code",
   "execution_count": 7,
   "metadata": {
    "colab": {
     "base_uri": "https://localhost:8080/"
    },
    "id": "VY83gf_ss-x1",
    "outputId": "95ac1324-07f0-466f-d01d-e11e688a675b"
   },
   "outputs": [
    {
     "name": "stdout",
     "output_type": "stream",
     "text": [
      "2003\n"
     ]
    }
   ],
   "source": [
    "print(len(test_set))"
   ]
  },
  {
   "cell_type": "code",
   "execution_count": 8,
   "metadata": {
    "colab": {
     "base_uri": "https://localhost:8080/"
    },
    "id": "3w2H4w0_ubRT",
    "outputId": "66c0a7ae-3ab5-4512-8991-1641377bbcc6"
   },
   "outputs": [
    {
     "data": {
      "text/plain": [
       "array([4, 2, 1, 0, 6, 5, 3], dtype=int64)"
      ]
     },
     "execution_count": 8,
     "metadata": {},
     "output_type": "execute_result"
    }
   ],
   "source": [
    "df.label.unique()"
   ]
  },
  {
   "cell_type": "code",
   "execution_count": 9,
   "metadata": {
    "id": "lHk4p-sdugSa"
   },
   "outputs": [],
   "source": [
    "# reference: https://www.kaggle.com/kmader/skin-cancer-mnist-ham10000/discussion/183083\n",
    "classes={\n",
    "    0:('akiec', 'actinic keratoses and intraepithelial carcinomae'),\n",
    "         \n",
    "    1:('bcc' , 'basal cell carcinoma'),\n",
    "         \n",
    "    2:('bkl', 'benign keratosis-like lesions'),\n",
    "         \n",
    "    3:('df', 'dermatofibroma'),\n",
    "         \n",
    "    4:('nv', ' melanocytic nevi'),\n",
    "         \n",
    "    5:('vasc', ' pyogenic granulomas and hemorrhage'),\n",
    "         \n",
    "    6:('mel', 'melanoma'),\n",
    "}"
   ]
  },
  {
   "cell_type": "code",
   "execution_count": 10,
   "metadata": {
    "id": "2W5sBRkZtBr9"
   },
   "outputs": [],
   "source": [
    "y_train=train_set['label']\n",
    "\n",
    "x_train=train_set.drop(columns=['label'])\n",
    "\n",
    "y_test=test_set['label']\n",
    "\n",
    "x_test=test_set.drop(columns=['label'])\n",
    "\n",
    "columns=list(x_train)"
   ]
  },
  {
   "cell_type": "code",
   "execution_count": 13,
   "metadata": {
    "colab": {
     "base_uri": "https://localhost:8080/"
    },
    "id": "JzQneFTdtWO1",
    "outputId": "b8016af4-5370-474f-8991-208944e47404"
   },
   "outputs": [
    {
     "name": "stdout",
     "output_type": "stream",
     "text": [
      "cpu\n"
     ]
    }
   ],
   "source": [
    "import torch\n",
    "\n",
    "device = torch.device(\"cuda:0\" if torch.cuda.is_available() else \"cpu\")\n",
    "\n",
    "print(device)"
   ]
  },
  {
   "cell_type": "markdown",
   "metadata": {
    "id": "5i_16okiu1Rf"
   },
   "source": [
    "# Step 4: Exploratory Data Analysis and Preprocessing"
   ]
  },
  {
   "cell_type": "code",
   "execution_count": 38,
   "metadata": {
    "colab": {
     "base_uri": "https://localhost:8080/",
     "height": 296
    },
    "id": "Tv4196QOhtmI",
    "outputId": "17c53836-3a24-4662-b652-48f82890a0f2"
   },
   "outputs": [],
   "source": [
    "import seaborn as sns\n",
    "\n",
    "#sns.countplot(train_set['label'])"
   ]
  },
  {
   "cell_type": "code",
   "execution_count": 15,
   "metadata": {
    "id": "CKIlAJY9pwh1"
   },
   "outputs": [],
   "source": [
    "from imblearn.over_sampling import RandomOverSampler \n",
    "\n",
    "oversample = RandomOverSampler()\n",
    "\n",
    "x_train,y_train  = oversample.fit_resample(x_train,y_train)"
   ]
  },
  {
   "cell_type": "code",
   "execution_count": 16,
   "metadata": {
    "colab": {
     "base_uri": "https://localhost:8080/",
     "height": 296
    },
    "id": "tM_GikKFiJuK",
    "outputId": "15f6e0ce-f063-4d88-e257-d4de54f9e276"
   },
   "outputs": [
    {
     "data": {
      "text/plain": [
       "<Axes: ylabel='count'>"
      ]
     },
     "execution_count": 16,
     "metadata": {},
     "output_type": "execute_result"
    },
    {
     "data": {
      "image/png": "[encoded data removed]",
      "text/plain": [
       "<Figure size 640x480 with 1 Axes>"
      ]
     },
     "metadata": {},
     "output_type": "display_data"
    }
   ],
   "source": [
    "sns.countplot(y_train)"
   ]
  },
  {
   "cell_type": "code",
   "execution_count": 17,
   "metadata": {
    "colab": {
     "base_uri": "https://localhost:8080/",
     "height": 809
    },
    "id": "84ADzEUx5R9I",
    "outputId": "93d80c0d-cad7-4f5d-fecf-a8ea8706c8ee"
   },
   "outputs": [
    {
     "data": {
      "image/png": "[encoded data removed]",
      "text/plain": [
       "<Figure size 640x480 with 1 Axes>"
      ]
     },
     "metadata": {},
     "output_type": "display_data"
    },
    {
     "data": {
      "image/png": "[encoded data removed]",
      "text/plain": [
       "<Figure size 640x480 with 1 Axes>"
      ]
     },
     "metadata": {},
     "output_type": "display_data"
    },
    {
     "data": {
      "image/png": "[encoded data removed]",
      "text/plain": [
       "<Figure size 640x480 with 1 Axes>"
      ]
     },
     "metadata": {},
     "output_type": "display_data"
    }
   ],
   "source": [
    "import matplotlib.pyplot as plt\n",
    "import random\n",
    "\n",
    "num=random.randint(0,8000)\n",
    "x_train=np.array(x_train, dtype=np.uint8).reshape(-1,28,28,3)\n",
    "\n",
    "plt.imshow(x_train[num].reshape(28,28,3))\n",
    "plt.title(\"Random image from training data\")\n",
    "plt.show()\n",
    "num=random.randint(0,8000)\n",
    "plt.imshow(x_train[num].reshape(28,28,3))\n",
    "plt.title(\"Random image from training data\")\n",
    "plt.show()\n",
    "\n",
    "num=random.randint(0,8000)\n",
    "plt.imshow(x_train[num].reshape(28,28,3))\n",
    "plt.title(\"Random image from training data\")\n",
    "plt.show()"
   ]
  },
  {
   "cell_type": "markdown",
   "metadata": {
    "id": "MQlw_baKxPQw"
   },
   "source": [
    "# Step 5: Model Building (CNN)"
   ]
  },
  {
   "cell_type": "code",
   "execution_count": 18,
   "metadata": {
    "id": "obmDZia7Sxnn"
   },
   "outputs": [],
   "source": [
    "from tensorflow.keras.models import Sequential\n",
    "from tensorflow.keras.layers import Conv2D, Flatten, Dense, MaxPool2D\n",
    "import tensorflow as tf"
   ]
  },
  {
   "cell_type": "code",
   "execution_count": 19,
   "metadata": {
    "colab": {
     "base_uri": "https://localhost:8080/"
    },
    "id": "Vsll2hd2wzuS",
    "outputId": "add27fd4-5383-4f03-8dd4-f1f7d50478cc"
   },
   "outputs": [
    {
     "name": "stdout",
     "output_type": "stream",
     "text": [
      "CPU times: total: 0 ns\n",
      "Wall time: 0 ns\n",
      "Model: \"sequential\"\n",
      "_________________________________________________________________\n",
      " Layer (type)                Output Shape              Param #   \n",
      "=================================================================\n",
      " conv2d (Conv2D)             (None, 28, 28, 16)        448       \n",
      "                                                                 \n",
      " max_pooling2d (MaxPooling2  (None, 14, 14, 16)        0         \n",
      " D)                                                              \n",
      "                                                                 \n",
      " batch_normalization (Batch  (None, 14, 14, 16)        64        \n",
      " Normalization)                                                  \n",
      "                                                                 \n",
      " conv2d_1 (Conv2D)           (None, 12, 12, 32)        4640      \n",
      "                                                                 \n",
      " conv2d_2 (Conv2D)           (None, 10, 10, 64)        18496     \n",
      "                                                                 \n",
      " max_pooling2d_1 (MaxPoolin  (None, 5, 5, 64)          0         \n",
      " g2D)                                                            \n",
      "                                                                 \n",
      " batch_normalization_1 (Bat  (None, 5, 5, 64)          256       \n",
      " chNormalization)                                                \n",
      "                                                                 \n",
      " conv2d_3 (Conv2D)           (None, 3, 3, 128)         73856     \n",
      "                                                                 \n",
      " conv2d_4 (Conv2D)           (None, 1, 1, 256)         295168    \n",
      "                                                                 \n",
      " flatten (Flatten)           (None, 256)               0         \n",
      "                                                                 \n",
      " dropout (Dropout)           (None, 256)               0         \n",
      "                                                                 \n",
      " dense (Dense)               (None, 256)               65792     \n",
      "                                                                 \n",
      " batch_normalization_2 (Bat  (None, 256)               1024      \n",
      " chNormalization)                                                \n",
      "                                                                 \n",
      " dropout_1 (Dropout)         (None, 256)               0         \n",
      "                                                                 \n",
      " dense_1 (Dense)             (None, 128)               32896     \n",
      "                                                                 \n",
      " batch_normalization_3 (Bat  (None, 128)               512       \n",
      " chNormalization)                                                \n",
      "                                                                 \n",
      " dense_2 (Dense)             (None, 64)                8256      \n",
      "                                                                 \n",
      " batch_normalization_4 (Bat  (None, 64)                256       \n",
      " chNormalization)                                                \n",
      "                                                                 \n",
      " dropout_2 (Dropout)         (None, 64)                0         \n",
      "                                                                 \n",
      " dense_3 (Dense)             (None, 32)                2080      \n",
      "                                                                 \n",
      " batch_normalization_5 (Bat  (None, 32)                128       \n",
      " chNormalization)                                                \n",
      "                                                                 \n",
      " dense_4 (Dense)             (None, 7)                 231       \n",
      "                                                                 \n",
      "=================================================================\n",
      "Total params: 504103 (1.92 MB)\n",
      "Trainable params: 502983 (1.92 MB)\n",
      "Non-trainable params: 1120 (4.38 KB)\n",
      "_________________________________________________________________\n"
     ]
    }
   ],
   "source": [
    "#https://keras.io/api/models/sequential/\n",
    "#https://keras.io/api/layers/core_layers/dense/\n",
    "#https://keras.io/api/layers/merging_layers/add/\n",
    "#https://keras.io/api/layers/convolution_layers/convolution2d\n",
    "#https://keras.io/api/layers/convolution_layers/convolution2d\n",
    "#https://www.tensorflow.org/api_docs/python/tf/keras/layers/BatchNormalization\n",
    "\n",
    "\n",
    "%time \n",
    "\n",
    "model = Sequential()\n",
    "\n",
    "model.add(Conv2D(16, \n",
    "                 kernel_size = (3,3), \n",
    "                 input_shape = (28, 28, 3), \n",
    "                 activation = 'relu', \n",
    "                 padding = 'same'))\n",
    "\n",
    "model.add(MaxPool2D(pool_size = (2,2)))\n",
    "model.add(tf.keras.layers.BatchNormalization())\n",
    "\n",
    "model.add(Conv2D(32, \n",
    "                 kernel_size = (3,3), \n",
    "                 activation = 'relu'))\n",
    "\n",
    "model.add(Conv2D(64, \n",
    "                 kernel_size = (3,3), \n",
    "                 activation = 'relu'))\n",
    "\n",
    "model.add(MaxPool2D(pool_size = (2,2)))\n",
    "\n",
    "model.add(tf.keras.layers.BatchNormalization())\n",
    "\n",
    "model.add(Conv2D(128, \n",
    "                 kernel_size = (3,3), \n",
    "                 activation = 'relu'))\n",
    "\n",
    "model.add(Conv2D(256, \n",
    "                 kernel_size = (3,3), \n",
    "                 activation = 'relu'))\n",
    "\n",
    "model.add(Flatten())\n",
    "model.add(tf.keras.layers.Dropout(0.2))\n",
    "model.add(Dense(256,activation='relu'))\n",
    "\n",
    "model.add(tf.keras.layers.BatchNormalization())\n",
    "model.add(tf.keras.layers.Dropout(0.2))\n",
    "model.add(Dense(128,activation='relu'))\n",
    "\n",
    "model.add(tf.keras.layers.BatchNormalization())\n",
    "model.add(Dense(64,activation='relu'))\n",
    "\n",
    "model.add(tf.keras.layers.BatchNormalization())\n",
    "model.add(tf.keras.layers.Dropout(0.2))\n",
    "model.add(Dense(32,activation='relu'))\n",
    "\n",
    "model.add(tf.keras.layers.BatchNormalization())\n",
    "model.add(Dense(7,activation='softmax'))\n",
    "\n",
    "model.summary()"
   ]
  },
  {
   "cell_type": "markdown",
   "metadata": {
    "id": "KEKYqILDx4He"
   },
   "source": [
    "# Step 6: Setting Optimizer & Annealing\n",
    "\n",
    "---\n",
    "\n"
   ]
  },
  {
   "cell_type": "code",
   "execution_count": 20,
   "metadata": {
    "id": "g4B4-f7ehUIW"
   },
   "outputs": [],
   "source": [
    "#reference: https://www.kaggle.com/dhruv1234/ham10000-skin-disease-classification\n",
    "\n",
    "callback = tf.keras.callbacks.ModelCheckpoint(filepath='best_model.h5',\n",
    "                                              monitor='val_acc', \n",
    "                                              mode='max',\n",
    "                                              verbose=1,\n",
    "                                              save_best_only=True)"
   ]
  },
  {
   "cell_type": "code",
   "execution_count": 21,
   "metadata": {
    "colab": {
     "base_uri": "https://localhost:8080/"
    },
    "id": "wPmBHtmLxxR4",
    "outputId": "d01e165f-d76c-4e40-c963-359c09e5fb9d"
   },
   "outputs": [
    {
     "name": "stderr",
     "output_type": "stream",
     "text": [
      "WARNING:absl:`lr` is deprecated in Keras optimizer, please use `learning_rate` or use the legacy optimizer, e.g.,tf.keras.optimizers.legacy.Adam.\n"
     ]
    },
    {
     "name": "stdout",
     "output_type": "stream",
     "text": [
      "CPU times: total: 0 ns\n",
      "Wall time: 0 ns\n"
     ]
    }
   ],
   "source": [
    "%time \n",
    "\n",
    "optimizer=tf.keras.optimizers.Adam(lr=0.001)\n",
    "\n",
    "model.compile(loss = 'sparse_categorical_crossentropy',\n",
    "              optimizer =optimizer,\n",
    "              metrics = ['accuracy'])"
   ]
  },
  {
   "cell_type": "markdown",
   "metadata": {
    "id": "XXveDlVpu1Rv"
   },
   "source": [
    "# Step 7: Fitting the model"
   ]
  },
  {
   "cell_type": "code",
   "execution_count": 22,
   "metadata": {
    "colab": {
     "base_uri": "https://localhost:8080/"
    },
    "id": "1XgBEIh5hY63",
    "outputId": "d24b72b5-b707-4363-ccc7-bcc4cb3a83fd"
   },
   "outputs": [
    {
     "name": "stdout",
     "output_type": "stream",
     "text": [
      "Epoch 1/50\n",
      "235/235 [==============================] - ETA: 0s - loss: 1.2230 - accuracy: 0.5550WARNING:tensorflow:Can save best model only with val_acc available, skipping.\n"
     ]
    },
    {
     "name": "stderr",
     "output_type": "stream",
     "text": [
      "WARNING:tensorflow:Can save best model only with val_acc available, skipping.\n"
     ]
    },
    {
     "name": "stdout",
     "output_type": "stream",
     "text": [
      "235/235 [==============================] - 15s 54ms/step - loss: 1.2230 - accuracy: 0.5550 - val_loss: 3.0495 - val_accuracy: 0.0657\n",
      "Epoch 2/50\n",
      "235/235 [==============================] - ETA: 0s - loss: 0.4214 - accuracy: 0.8623WARNING:tensorflow:Can save best model only with val_acc available, skipping.\n"
     ]
    },
    {
     "name": "stderr",
     "output_type": "stream",
     "text": [
      "WARNING:tensorflow:Can save best model only with val_acc available, skipping.\n"
     ]
    },
    {
     "name": "stdout",
     "output_type": "stream",
     "text": [
      "235/235 [==============================] - 12s 52ms/step - loss: 0.4214 - accuracy: 0.8623 - val_loss: 1.6889 - val_accuracy: 0.3814\n",
      "Epoch 3/50\n",
      "234/235 [============================>.] - ETA: 0s - loss: 0.2682 - accuracy: 0.9111WARNING:tensorflow:Can save best model only with val_acc available, skipping.\n"
     ]
    },
    {
     "name": "stderr",
     "output_type": "stream",
     "text": [
      "WARNING:tensorflow:Can save best model only with val_acc available, skipping.\n"
     ]
    },
    {
     "name": "stdout",
     "output_type": "stream",
     "text": [
      "235/235 [==============================] - 12s 53ms/step - loss: 0.2684 - accuracy: 0.9110 - val_loss: 1.8694 - val_accuracy: 0.3596\n",
      "Epoch 4/50\n",
      "234/235 [============================>.] - ETA: 0s - loss: 0.2077 - accuracy: 0.9302WARNING:tensorflow:Can save best model only with val_acc available, skipping.\n"
     ]
    },
    {
     "name": "stderr",
     "output_type": "stream",
     "text": [
      "WARNING:tensorflow:Can save best model only with val_acc available, skipping.\n"
     ]
    },
    {
     "name": "stdout",
     "output_type": "stream",
     "text": [
      "235/235 [==============================] - 12s 52ms/step - loss: 0.2077 - accuracy: 0.9302 - val_loss: 1.1207 - val_accuracy: 0.4761\n",
      "Epoch 5/50\n",
      "234/235 [============================>.] - ETA: 0s - loss: 0.1677 - accuracy: 0.9443WARNING:tensorflow:Can save best model only with val_acc available, skipping.\n"
     ]
    },
    {
     "name": "stderr",
     "output_type": "stream",
     "text": [
      "WARNING:tensorflow:Can save best model only with val_acc available, skipping.\n"
     ]
    },
    {
     "name": "stdout",
     "output_type": "stream",
     "text": [
      "235/235 [==============================] - 12s 52ms/step - loss: 0.1676 - accuracy: 0.9443 - val_loss: 1.1344 - val_accuracy: 0.5189\n",
      "Epoch 6/50\n",
      "234/235 [============================>.] - ETA: 0s - loss: 0.1347 - accuracy: 0.9530WARNING:tensorflow:Can save best model only with val_acc available, skipping.\n"
     ]
    },
    {
     "name": "stderr",
     "output_type": "stream",
     "text": [
      "WARNING:tensorflow:Can save best model only with val_acc available, skipping.\n"
     ]
    },
    {
     "name": "stdout",
     "output_type": "stream",
     "text": [
      "235/235 [==============================] - 12s 53ms/step - loss: 0.1347 - accuracy: 0.9530 - val_loss: 0.9846 - val_accuracy: 0.5854\n",
      "Epoch 7/50\n",
      "234/235 [============================>.] - ETA: 0s - loss: 0.1115 - accuracy: 0.9612WARNING:tensorflow:Can save best model only with val_acc available, skipping.\n"
     ]
    },
    {
     "name": "stderr",
     "output_type": "stream",
     "text": [
      "WARNING:tensorflow:Can save best model only with val_acc available, skipping.\n"
     ]
    },
    {
     "name": "stdout",
     "output_type": "stream",
     "text": [
      "235/235 [==============================] - 13s 54ms/step - loss: 0.1116 - accuracy: 0.9612 - val_loss: 0.8785 - val_accuracy: 0.5908\n",
      "Epoch 8/50\n",
      "234/235 [============================>.] - ETA: 0s - loss: 0.1227 - accuracy: 0.9555WARNING:tensorflow:Can save best model only with val_acc available, skipping.\n"
     ]
    },
    {
     "name": "stderr",
     "output_type": "stream",
     "text": [
      "WARNING:tensorflow:Can save best model only with val_acc available, skipping.\n"
     ]
    },
    {
     "name": "stdout",
     "output_type": "stream",
     "text": [
      "235/235 [==============================] - 13s 54ms/step - loss: 0.1229 - accuracy: 0.9555 - val_loss: 0.8051 - val_accuracy: 0.6376\n",
      "Epoch 9/50\n",
      "234/235 [============================>.] - ETA: 0s - loss: 0.0916 - accuracy: 0.9674WARNING:tensorflow:Can save best model only with val_acc available, skipping.\n"
     ]
    },
    {
     "name": "stderr",
     "output_type": "stream",
     "text": [
      "WARNING:tensorflow:Can save best model only with val_acc available, skipping.\n"
     ]
    },
    {
     "name": "stdout",
     "output_type": "stream",
     "text": [
      "235/235 [==============================] - 13s 54ms/step - loss: 0.0916 - accuracy: 0.9673 - val_loss: 0.6882 - val_accuracy: 0.6813\n",
      "Epoch 10/50\n",
      "234/235 [============================>.] - ETA: 0s - loss: 0.0885 - accuracy: 0.9696WARNING:tensorflow:Can save best model only with val_acc available, skipping.\n"
     ]
    },
    {
     "name": "stderr",
     "output_type": "stream",
     "text": [
      "WARNING:tensorflow:Can save best model only with val_acc available, skipping.\n"
     ]
    },
    {
     "name": "stdout",
     "output_type": "stream",
     "text": [
      "235/235 [==============================] - 13s 54ms/step - loss: 0.0884 - accuracy: 0.9696 - val_loss: 0.6242 - val_accuracy: 0.7494\n",
      "Epoch 11/50\n",
      "234/235 [============================>.] - ETA: 0s - loss: 0.0815 - accuracy: 0.9716WARNING:tensorflow:Can save best model only with val_acc available, skipping.\n"
     ]
    },
    {
     "name": "stderr",
     "output_type": "stream",
     "text": [
      "WARNING:tensorflow:Can save best model only with val_acc available, skipping.\n"
     ]
    },
    {
     "name": "stdout",
     "output_type": "stream",
     "text": [
      "235/235 [==============================] - 13s 54ms/step - loss: 0.0817 - accuracy: 0.9715 - val_loss: 0.5776 - val_accuracy: 0.7346\n",
      "Epoch 12/50\n",
      "234/235 [============================>.] - ETA: 0s - loss: 0.0689 - accuracy: 0.9760WARNING:tensorflow:Can save best model only with val_acc available, skipping.\n"
     ]
    },
    {
     "name": "stderr",
     "output_type": "stream",
     "text": [
      "WARNING:tensorflow:Can save best model only with val_acc available, skipping.\n"
     ]
    },
    {
     "name": "stdout",
     "output_type": "stream",
     "text": [
      "235/235 [==============================] - 13s 54ms/step - loss: 0.0692 - accuracy: 0.9760 - val_loss: 1.8785 - val_accuracy: 0.4867\n",
      "Epoch 13/50\n",
      "234/235 [============================>.] - ETA: 0s - loss: 0.0738 - accuracy: 0.9752WARNING:tensorflow:Can save best model only with val_acc available, skipping.\n"
     ]
    },
    {
     "name": "stderr",
     "output_type": "stream",
     "text": [
      "WARNING:tensorflow:Can save best model only with val_acc available, skipping.\n"
     ]
    },
    {
     "name": "stdout",
     "output_type": "stream",
     "text": [
      "235/235 [==============================] - 13s 54ms/step - loss: 0.0736 - accuracy: 0.9752 - val_loss: 0.6448 - val_accuracy: 0.7373\n",
      "Epoch 14/50\n",
      "234/235 [============================>.] - ETA: 0s - loss: 0.0586 - accuracy: 0.9792WARNING:tensorflow:Can save best model only with val_acc available, skipping.\n"
     ]
    },
    {
     "name": "stderr",
     "output_type": "stream",
     "text": [
      "WARNING:tensorflow:Can save best model only with val_acc available, skipping.\n"
     ]
    },
    {
     "name": "stdout",
     "output_type": "stream",
     "text": [
      "235/235 [==============================] - 13s 53ms/step - loss: 0.0585 - accuracy: 0.9792 - val_loss: 1.7672 - val_accuracy: 0.5089\n",
      "Epoch 15/50\n",
      "234/235 [============================>.] - ETA: 0s - loss: 0.0697 - accuracy: 0.9773WARNING:tensorflow:Can save best model only with val_acc available, skipping.\n"
     ]
    },
    {
     "name": "stderr",
     "output_type": "stream",
     "text": [
      "WARNING:tensorflow:Can save best model only with val_acc available, skipping.\n"
     ]
    },
    {
     "name": "stdout",
     "output_type": "stream",
     "text": [
      "235/235 [==============================] - 13s 53ms/step - loss: 0.0697 - accuracy: 0.9772 - val_loss: 0.5943 - val_accuracy: 0.7978\n",
      "Epoch 16/50\n",
      "235/235 [==============================] - ETA: 0s - loss: 0.0471 - accuracy: 0.9844WARNING:tensorflow:Can save best model only with val_acc available, skipping.\n"
     ]
    },
    {
     "name": "stderr",
     "output_type": "stream",
     "text": [
      "WARNING:tensorflow:Can save best model only with val_acc available, skipping.\n"
     ]
    },
    {
     "name": "stdout",
     "output_type": "stream",
     "text": [
      "235/235 [==============================] - 12s 53ms/step - loss: 0.0471 - accuracy: 0.9844 - val_loss: 0.3529 - val_accuracy: 0.8407\n",
      "Epoch 17/50\n",
      "235/235 [==============================] - ETA: 0s - loss: 0.0430 - accuracy: 0.9852WARNING:tensorflow:Can save best model only with val_acc available, skipping.\n"
     ]
    },
    {
     "name": "stderr",
     "output_type": "stream",
     "text": [
      "WARNING:tensorflow:Can save best model only with val_acc available, skipping.\n"
     ]
    },
    {
     "name": "stdout",
     "output_type": "stream",
     "text": [
      "235/235 [==============================] - 13s 54ms/step - loss: 0.0430 - accuracy: 0.9852 - val_loss: 1.0654 - val_accuracy: 0.6561\n",
      "Epoch 18/50\n",
      "234/235 [============================>.] - ETA: 0s - loss: 0.0417 - accuracy: 0.9861WARNING:tensorflow:Can save best model only with val_acc available, skipping.\n"
     ]
    },
    {
     "name": "stderr",
     "output_type": "stream",
     "text": [
      "WARNING:tensorflow:Can save best model only with val_acc available, skipping.\n"
     ]
    },
    {
     "name": "stdout",
     "output_type": "stream",
     "text": [
      "235/235 [==============================] - 13s 54ms/step - loss: 0.0420 - accuracy: 0.9860 - val_loss: 1.0703 - val_accuracy: 0.7115\n",
      "Epoch 19/50\n",
      "235/235 [==============================] - ETA: 0s - loss: 0.0422 - accuracy: 0.9859WARNING:tensorflow:Can save best model only with val_acc available, skipping.\n"
     ]
    },
    {
     "name": "stderr",
     "output_type": "stream",
     "text": [
      "WARNING:tensorflow:Can save best model only with val_acc available, skipping.\n"
     ]
    },
    {
     "name": "stdout",
     "output_type": "stream",
     "text": [
      "235/235 [==============================] - 13s 55ms/step - loss: 0.0422 - accuracy: 0.9859 - val_loss: 0.4380 - val_accuracy: 0.8624\n",
      "Epoch 20/50\n",
      "234/235 [============================>.] - ETA: 0s - loss: 0.0393 - accuracy: 0.9873WARNING:tensorflow:Can save best model only with val_acc available, skipping.\n"
     ]
    },
    {
     "name": "stderr",
     "output_type": "stream",
     "text": [
      "WARNING:tensorflow:Can save best model only with val_acc available, skipping.\n"
     ]
    },
    {
     "name": "stdout",
     "output_type": "stream",
     "text": [
      "235/235 [==============================] - 12s 53ms/step - loss: 0.0393 - accuracy: 0.9873 - val_loss: 0.3272 - val_accuracy: 0.8743\n",
      "Epoch 21/50\n",
      "235/235 [==============================] - ETA: 0s - loss: 0.0404 - accuracy: 0.9865WARNING:tensorflow:Can save best model only with val_acc available, skipping.\n"
     ]
    },
    {
     "name": "stderr",
     "output_type": "stream",
     "text": [
      "WARNING:tensorflow:Can save best model only with val_acc available, skipping.\n"
     ]
    },
    {
     "name": "stdout",
     "output_type": "stream",
     "text": [
      "235/235 [==============================] - 13s 53ms/step - loss: 0.0404 - accuracy: 0.9865 - val_loss: 0.2920 - val_accuracy: 0.9054\n",
      "Epoch 22/50\n",
      "234/235 [============================>.] - ETA: 0s - loss: 0.0290 - accuracy: 0.9904WARNING:tensorflow:Can save best model only with val_acc available, skipping.\n"
     ]
    },
    {
     "name": "stderr",
     "output_type": "stream",
     "text": [
      "WARNING:tensorflow:Can save best model only with val_acc available, skipping.\n"
     ]
    },
    {
     "name": "stdout",
     "output_type": "stream",
     "text": [
      "235/235 [==============================] - 13s 53ms/step - loss: 0.0290 - accuracy: 0.9904 - val_loss: 0.2271 - val_accuracy: 0.9152\n",
      "Epoch 23/50\n",
      "234/235 [============================>.] - ETA: 0s - loss: 0.0317 - accuracy: 0.9899WARNING:tensorflow:Can save best model only with val_acc available, skipping.\n"
     ]
    },
    {
     "name": "stderr",
     "output_type": "stream",
     "text": [
      "WARNING:tensorflow:Can save best model only with val_acc available, skipping.\n"
     ]
    },
    {
     "name": "stdout",
     "output_type": "stream",
     "text": [
      "235/235 [==============================] - 13s 54ms/step - loss: 0.0318 - accuracy: 0.9899 - val_loss: 1.5611 - val_accuracy: 0.5666\n",
      "Epoch 24/50\n",
      "234/235 [============================>.] - ETA: 0s - loss: 0.0309 - accuracy: 0.9902WARNING:tensorflow:Can save best model only with val_acc available, skipping.\n"
     ]
    },
    {
     "name": "stderr",
     "output_type": "stream",
     "text": [
      "WARNING:tensorflow:Can save best model only with val_acc available, skipping.\n"
     ]
    },
    {
     "name": "stdout",
     "output_type": "stream",
     "text": [
      "235/235 [==============================] - 13s 53ms/step - loss: 0.0312 - accuracy: 0.9902 - val_loss: 0.3467 - val_accuracy: 0.8708\n",
      "Epoch 25/50\n",
      "234/235 [============================>.] - ETA: 0s - loss: 0.0305 - accuracy: 0.9892WARNING:tensorflow:Can save best model only with val_acc available, skipping.\n"
     ]
    },
    {
     "name": "stderr",
     "output_type": "stream",
     "text": [
      "WARNING:tensorflow:Can save best model only with val_acc available, skipping.\n"
     ]
    },
    {
     "name": "stdout",
     "output_type": "stream",
     "text": [
      "235/235 [==============================] - 12s 53ms/step - loss: 0.0305 - accuracy: 0.9892 - val_loss: 0.0714 - val_accuracy: 0.9767\n",
      "Epoch 26/50\n",
      "234/235 [============================>.] - ETA: 0s - loss: 0.0285 - accuracy: 0.9910WARNING:tensorflow:Can save best model only with val_acc available, skipping.\n"
     ]
    },
    {
     "name": "stderr",
     "output_type": "stream",
     "text": [
      "WARNING:tensorflow:Can save best model only with val_acc available, skipping.\n"
     ]
    },
    {
     "name": "stdout",
     "output_type": "stream",
     "text": [
      "235/235 [==============================] - 13s 54ms/step - loss: 0.0285 - accuracy: 0.9910 - val_loss: 0.0654 - val_accuracy: 0.9783\n",
      "Epoch 27/50\n",
      "234/235 [============================>.] - ETA: 0s - loss: 0.0233 - accuracy: 0.9922WARNING:tensorflow:Can save best model only with val_acc available, skipping.\n"
     ]
    },
    {
     "name": "stderr",
     "output_type": "stream",
     "text": [
      "WARNING:tensorflow:Can save best model only with val_acc available, skipping.\n"
     ]
    },
    {
     "name": "stdout",
     "output_type": "stream",
     "text": [
      "235/235 [==============================] - 13s 54ms/step - loss: 0.0232 - accuracy: 0.9922 - val_loss: 0.1193 - val_accuracy: 0.9536\n",
      "Epoch 28/50\n",
      "234/235 [============================>.] - ETA: 0s - loss: 0.0325 - accuracy: 0.9902WARNING:tensorflow:Can save best model only with val_acc available, skipping.\n"
     ]
    },
    {
     "name": "stderr",
     "output_type": "stream",
     "text": [
      "WARNING:tensorflow:Can save best model only with val_acc available, skipping.\n"
     ]
    },
    {
     "name": "stdout",
     "output_type": "stream",
     "text": [
      "235/235 [==============================] - 13s 54ms/step - loss: 0.0324 - accuracy: 0.9902 - val_loss: 0.0658 - val_accuracy: 0.9801\n",
      "Epoch 29/50\n",
      "234/235 [============================>.] - ETA: 0s - loss: 0.0172 - accuracy: 0.9947WARNING:tensorflow:Can save best model only with val_acc available, skipping.\n"
     ]
    },
    {
     "name": "stderr",
     "output_type": "stream",
     "text": [
      "WARNING:tensorflow:Can save best model only with val_acc available, skipping.\n"
     ]
    },
    {
     "name": "stdout",
     "output_type": "stream",
     "text": [
      "235/235 [==============================] - 12s 53ms/step - loss: 0.0173 - accuracy: 0.9946 - val_loss: 0.1834 - val_accuracy: 0.9377\n",
      "Epoch 30/50\n",
      "234/235 [============================>.] - ETA: 0s - loss: 0.0225 - accuracy: 0.9930WARNING:tensorflow:Can save best model only with val_acc available, skipping.\n"
     ]
    },
    {
     "name": "stderr",
     "output_type": "stream",
     "text": [
      "WARNING:tensorflow:Can save best model only with val_acc available, skipping.\n"
     ]
    },
    {
     "name": "stdout",
     "output_type": "stream",
     "text": [
      "235/235 [==============================] - 13s 55ms/step - loss: 0.0226 - accuracy: 0.9929 - val_loss: 0.1172 - val_accuracy: 0.9597\n",
      "Epoch 31/50\n",
      "235/235 [==============================] - ETA: 0s - loss: 0.0260 - accuracy: 0.9914WARNING:tensorflow:Can save best model only with val_acc available, skipping.\n"
     ]
    },
    {
     "name": "stderr",
     "output_type": "stream",
     "text": [
      "WARNING:tensorflow:Can save best model only with val_acc available, skipping.\n"
     ]
    },
    {
     "name": "stdout",
     "output_type": "stream",
     "text": [
      "235/235 [==============================] - 13s 55ms/step - loss: 0.0260 - accuracy: 0.9914 - val_loss: 0.1298 - val_accuracy: 0.9507\n",
      "Epoch 32/50\n",
      "234/235 [============================>.] - ETA: 0s - loss: 0.0322 - accuracy: 0.9894WARNING:tensorflow:Can save best model only with val_acc available, skipping.\n"
     ]
    },
    {
     "name": "stderr",
     "output_type": "stream",
     "text": [
      "WARNING:tensorflow:Can save best model only with val_acc available, skipping.\n"
     ]
    },
    {
     "name": "stdout",
     "output_type": "stream",
     "text": [
      "235/235 [==============================] - 13s 54ms/step - loss: 0.0322 - accuracy: 0.9894 - val_loss: 0.2901 - val_accuracy: 0.8955\n",
      "Epoch 33/50\n",
      "234/235 [============================>.] - ETA: 0s - loss: 0.0140 - accuracy: 0.9954WARNING:tensorflow:Can save best model only with val_acc available, skipping.\n"
     ]
    },
    {
     "name": "stderr",
     "output_type": "stream",
     "text": [
      "WARNING:tensorflow:Can save best model only with val_acc available, skipping.\n"
     ]
    },
    {
     "name": "stdout",
     "output_type": "stream",
     "text": [
      "235/235 [==============================] - 13s 53ms/step - loss: 0.0139 - accuracy: 0.9954 - val_loss: 0.4012 - val_accuracy: 0.8840\n",
      "Epoch 34/50\n",
      "234/235 [============================>.] - ETA: 0s - loss: 0.0216 - accuracy: 0.9935WARNING:tensorflow:Can save best model only with val_acc available, skipping.\n"
     ]
    },
    {
     "name": "stderr",
     "output_type": "stream",
     "text": [
      "WARNING:tensorflow:Can save best model only with val_acc available, skipping.\n"
     ]
    },
    {
     "name": "stdout",
     "output_type": "stream",
     "text": [
      "235/235 [==============================] - 12s 53ms/step - loss: 0.0216 - accuracy: 0.9935 - val_loss: 0.3280 - val_accuracy: 0.8864\n",
      "Epoch 35/50\n",
      "234/235 [============================>.] - ETA: 0s - loss: 0.0195 - accuracy: 0.9940WARNING:tensorflow:Can save best model only with val_acc available, skipping.\n"
     ]
    },
    {
     "name": "stderr",
     "output_type": "stream",
     "text": [
      "WARNING:tensorflow:Can save best model only with val_acc available, skipping.\n"
     ]
    },
    {
     "name": "stdout",
     "output_type": "stream",
     "text": [
      "235/235 [==============================] - 13s 53ms/step - loss: 0.0195 - accuracy: 0.9940 - val_loss: 0.1025 - val_accuracy: 0.9604\n",
      "Epoch 36/50\n",
      "234/235 [============================>.] - ETA: 0s - loss: 0.0230 - accuracy: 0.9928WARNING:tensorflow:Can save best model only with val_acc available, skipping.\n"
     ]
    },
    {
     "name": "stderr",
     "output_type": "stream",
     "text": [
      "WARNING:tensorflow:Can save best model only with val_acc available, skipping.\n"
     ]
    },
    {
     "name": "stdout",
     "output_type": "stream",
     "text": [
      "235/235 [==============================] - 13s 54ms/step - loss: 0.0230 - accuracy: 0.9928 - val_loss: 0.1700 - val_accuracy: 0.9463\n",
      "Epoch 37/50\n",
      "234/235 [============================>.] - ETA: 0s - loss: 0.0188 - accuracy: 0.9941WARNING:tensorflow:Can save best model only with val_acc available, skipping.\n"
     ]
    },
    {
     "name": "stderr",
     "output_type": "stream",
     "text": [
      "WARNING:tensorflow:Can save best model only with val_acc available, skipping.\n"
     ]
    },
    {
     "name": "stdout",
     "output_type": "stream",
     "text": [
      "235/235 [==============================] - 13s 54ms/step - loss: 0.0188 - accuracy: 0.9941 - val_loss: 0.4001 - val_accuracy: 0.9018\n",
      "Epoch 38/50\n",
      "234/235 [============================>.] - ETA: 0s - loss: 0.0111 - accuracy: 0.9968WARNING:tensorflow:Can save best model only with val_acc available, skipping.\n"
     ]
    },
    {
     "name": "stderr",
     "output_type": "stream",
     "text": [
      "WARNING:tensorflow:Can save best model only with val_acc available, skipping.\n"
     ]
    },
    {
     "name": "stdout",
     "output_type": "stream",
     "text": [
      "235/235 [==============================] - 13s 54ms/step - loss: 0.0110 - accuracy: 0.9968 - val_loss: 0.0660 - val_accuracy: 0.9744\n",
      "Epoch 39/50\n",
      "234/235 [============================>.] - ETA: 0s - loss: 0.0182 - accuracy: 0.9940WARNING:tensorflow:Can save best model only with val_acc available, skipping.\n"
     ]
    },
    {
     "name": "stderr",
     "output_type": "stream",
     "text": [
      "WARNING:tensorflow:Can save best model only with val_acc available, skipping.\n"
     ]
    },
    {
     "name": "stdout",
     "output_type": "stream",
     "text": [
      "235/235 [==============================] - 13s 53ms/step - loss: 0.0182 - accuracy: 0.9940 - val_loss: 1.2368 - val_accuracy: 0.7313\n",
      "Epoch 40/50\n",
      "234/235 [============================>.] - ETA: 0s - loss: 0.0301 - accuracy: 0.9903WARNING:tensorflow:Can save best model only with val_acc available, skipping.\n"
     ]
    },
    {
     "name": "stderr",
     "output_type": "stream",
     "text": [
      "WARNING:tensorflow:Can save best model only with val_acc available, skipping.\n"
     ]
    },
    {
     "name": "stdout",
     "output_type": "stream",
     "text": [
      "235/235 [==============================] - 13s 56ms/step - loss: 0.0300 - accuracy: 0.9903 - val_loss: 0.0905 - val_accuracy: 0.9695\n",
      "Epoch 41/50\n",
      "234/235 [============================>.] - ETA: 0s - loss: 0.0183 - accuracy: 0.9943WARNING:tensorflow:Can save best model only with val_acc available, skipping.\n"
     ]
    },
    {
     "name": "stderr",
     "output_type": "stream",
     "text": [
      "WARNING:tensorflow:Can save best model only with val_acc available, skipping.\n"
     ]
    },
    {
     "name": "stdout",
     "output_type": "stream",
     "text": [
      "235/235 [==============================] - 13s 57ms/step - loss: 0.0183 - accuracy: 0.9943 - val_loss: 0.0301 - val_accuracy: 0.9897\n",
      "Epoch 42/50\n",
      "234/235 [============================>.] - ETA: 0s - loss: 0.0134 - accuracy: 0.9958WARNING:tensorflow:Can save best model only with val_acc available, skipping.\n"
     ]
    },
    {
     "name": "stderr",
     "output_type": "stream",
     "text": [
      "WARNING:tensorflow:Can save best model only with val_acc available, skipping.\n"
     ]
    },
    {
     "name": "stdout",
     "output_type": "stream",
     "text": [
      "235/235 [==============================] - 13s 57ms/step - loss: 0.0135 - accuracy: 0.9958 - val_loss: 0.3025 - val_accuracy: 0.9104\n",
      "Epoch 43/50\n",
      "234/235 [============================>.] - ETA: 0s - loss: 0.0139 - accuracy: 0.9963WARNING:tensorflow:Can save best model only with val_acc available, skipping.\n"
     ]
    },
    {
     "name": "stderr",
     "output_type": "stream",
     "text": [
      "WARNING:tensorflow:Can save best model only with val_acc available, skipping.\n"
     ]
    },
    {
     "name": "stdout",
     "output_type": "stream",
     "text": [
      "235/235 [==============================] - 13s 56ms/step - loss: 0.0140 - accuracy: 0.9962 - val_loss: 0.0973 - val_accuracy: 0.9697\n",
      "Epoch 44/50\n",
      "234/235 [============================>.] - ETA: 0s - loss: 0.0187 - accuracy: 0.9941WARNING:tensorflow:Can save best model only with val_acc available, skipping.\n"
     ]
    },
    {
     "name": "stderr",
     "output_type": "stream",
     "text": [
      "WARNING:tensorflow:Can save best model only with val_acc available, skipping.\n"
     ]
    },
    {
     "name": "stdout",
     "output_type": "stream",
     "text": [
      "235/235 [==============================] - 13s 56ms/step - loss: 0.0187 - accuracy: 0.9941 - val_loss: 0.1198 - val_accuracy: 0.9560\n",
      "Epoch 45/50\n",
      "234/235 [============================>.] - ETA: 0s - loss: 0.0091 - accuracy: 0.9970WARNING:tensorflow:Can save best model only with val_acc available, skipping.\n"
     ]
    },
    {
     "name": "stderr",
     "output_type": "stream",
     "text": [
      "WARNING:tensorflow:Can save best model only with val_acc available, skipping.\n"
     ]
    },
    {
     "name": "stdout",
     "output_type": "stream",
     "text": [
      "235/235 [==============================] - 13s 56ms/step - loss: 0.0091 - accuracy: 0.9970 - val_loss: 0.3333 - val_accuracy: 0.9039\n",
      "Epoch 46/50\n",
      "234/235 [============================>.] - ETA: 0s - loss: 0.0183 - accuracy: 0.9941WARNING:tensorflow:Can save best model only with val_acc available, skipping.\n"
     ]
    },
    {
     "name": "stderr",
     "output_type": "stream",
     "text": [
      "WARNING:tensorflow:Can save best model only with val_acc available, skipping.\n"
     ]
    },
    {
     "name": "stdout",
     "output_type": "stream",
     "text": [
      "235/235 [==============================] - 13s 56ms/step - loss: 0.0183 - accuracy: 0.9941 - val_loss: 1.0997 - val_accuracy: 0.7498\n",
      "Epoch 47/50\n",
      "234/235 [============================>.] - ETA: 0s - loss: 0.0161 - accuracy: 0.9946WARNING:tensorflow:Can save best model only with val_acc available, skipping.\n"
     ]
    },
    {
     "name": "stderr",
     "output_type": "stream",
     "text": [
      "WARNING:tensorflow:Can save best model only with val_acc available, skipping.\n"
     ]
    },
    {
     "name": "stdout",
     "output_type": "stream",
     "text": [
      "235/235 [==============================] - 13s 56ms/step - loss: 0.0160 - accuracy: 0.9946 - val_loss: 0.1915 - val_accuracy: 0.9555\n",
      "Epoch 48/50\n",
      "234/235 [============================>.] - ETA: 0s - loss: 0.0220 - accuracy: 0.9937WARNING:tensorflow:Can save best model only with val_acc available, skipping.\n"
     ]
    },
    {
     "name": "stderr",
     "output_type": "stream",
     "text": [
      "WARNING:tensorflow:Can save best model only with val_acc available, skipping.\n"
     ]
    },
    {
     "name": "stdout",
     "output_type": "stream",
     "text": [
      "235/235 [==============================] - 13s 57ms/step - loss: 0.0220 - accuracy: 0.9937 - val_loss: 0.1269 - val_accuracy: 0.9539\n",
      "Epoch 49/50\n",
      "234/235 [============================>.] - ETA: 0s - loss: 0.0089 - accuracy: 0.9975WARNING:tensorflow:Can save best model only with val_acc available, skipping.\n"
     ]
    },
    {
     "name": "stderr",
     "output_type": "stream",
     "text": [
      "WARNING:tensorflow:Can save best model only with val_acc available, skipping.\n"
     ]
    },
    {
     "name": "stdout",
     "output_type": "stream",
     "text": [
      "235/235 [==============================] - 14s 58ms/step - loss: 0.0089 - accuracy: 0.9975 - val_loss: 0.5357 - val_accuracy: 0.8734\n",
      "Epoch 50/50\n",
      "234/235 [============================>.] - ETA: 0s - loss: 0.0088 - accuracy: 0.9973WARNING:tensorflow:Can save best model only with val_acc available, skipping.\n"
     ]
    },
    {
     "name": "stderr",
     "output_type": "stream",
     "text": [
      "WARNING:tensorflow:Can save best model only with val_acc available, skipping.\n"
     ]
    },
    {
     "name": "stdout",
     "output_type": "stream",
     "text": [
      "235/235 [==============================] - 14s 58ms/step - loss: 0.0088 - accuracy: 0.9973 - val_loss: 0.0312 - val_accuracy: 0.9836\n",
      "Duration: 0:10:40.474294\n"
     ]
    }
   ],
   "source": [
    "from datetime import datetime\n",
    "\n",
    "start_time = datetime.now()\n",
    "\n",
    "history = model.fit(x_train,\n",
    "                    y_train,\n",
    "                    validation_split=0.2,\n",
    "                    batch_size = 128,\n",
    "                    epochs = 50,\n",
    "                    shuffle=True,\n",
    "                    callbacks=[callback])\n",
    "\n",
    "end_time = datetime.now()\n",
    "\n",
    "print('Duration: {}'.format(end_time - start_time))"
   ]
  },
  {
   "cell_type": "markdown",
   "metadata": {
    "id": "nfIapcND3kGk"
   },
   "source": [
    "# Step 8: Model Evaluation"
   ]
  },
  {
   "cell_type": "code",
   "execution_count": 23,
   "metadata": {
    "colab": {
     "base_uri": "https://localhost:8080/",
     "height": 295
    },
    "id": "qieCeDDGnEh3",
    "outputId": "52fdd55f-ea6b-41f6-bad6-874ca1236128"
   },
   "outputs": [
    {
     "data": {
      "image/png": "[encoded data removed]",
      "text/plain": [
       "<Figure size 640x480 with 1 Axes>"
      ]
     },
     "metadata": {},
     "output_type": "display_data"
    }
   ],
   "source": [
    "#plot of accuracy vs epoch\n",
    "\n",
    "plt.plot(history.history['accuracy'])\n",
    "\n",
    "plt.plot(history.history['val_accuracy'])\n",
    "\n",
    "plt.title('model accuracy')\n",
    "\n",
    "plt.ylabel('accuracy')\n",
    "\n",
    "plt.xlabel('epoch')\n",
    "\n",
    "plt.legend(['train', 'val'], loc='upper left')\n",
    "\n",
    "plt.show()"
   ]
  },
  {
   "cell_type": "code",
   "execution_count": 24,
   "metadata": {
    "colab": {
     "base_uri": "https://localhost:8080/",
     "height": 295
    },
    "id": "8gK_9yQotuky",
    "outputId": "28e090aa-f2da-439f-b06a-daf0aaefaa15"
   },
   "outputs": [
    {
     "data": {
      "image/png": "[encoded data removed]",
      "text/plain": [
       "<Figure size 640x480 with 1 Axes>"
      ]
     },
     "metadata": {},
     "output_type": "display_data"
    }
   ],
   "source": [
    "#plot of loss vs epoch\n",
    "\n",
    "plt.plot(history.history['loss'])\n",
    "\n",
    "plt.plot(history.history['val_loss'])\n",
    "\n",
    "plt.title('model loss')\n",
    "\n",
    "plt.ylabel('loss')\n",
    "\n",
    "plt.xlabel('epoch')\n",
    "\n",
    "plt.legend(['train', 'val'], loc='upper left')\n",
    "\n",
    "plt.show()"
   ]
  },
  {
   "cell_type": "code",
   "execution_count": 26,
   "metadata": {
    "id": "w9uqTVqftz1w"
   },
   "outputs": [],
   "source": [
    "#model.load_weights('best_model.h5')"
   ]
  },
  {
   "cell_type": "code",
   "execution_count": 39,
   "metadata": {
    "colab": {
     "base_uri": "https://localhost:8080/"
    },
    "id": "lzqOpvxMt2Xb",
    "outputId": "5fdc5e94-cac2-41ba-d569-3a230c4eea63"
   },
   "outputs": [
    {
     "name": "stdout",
     "output_type": "stream",
     "text": [
      "63/63 - 1s - loss: 1.5411 - accuracy: 0.7389 - 504ms/epoch - 8ms/step\n"
     ]
    }
   ],
   "source": [
    "x_test=np.array(x_test).reshape(-1,28,28,3)\n",
    "\n",
    "loss, acc = model.evaluate(x_test, y_test, verbose=2)"
   ]
  },
  {
   "cell_type": "code",
   "execution_count": 28,
   "metadata": {
    "id": "KHh_xm9e0kgT"
   },
   "outputs": [
    {
     "name": "stdout",
     "output_type": "stream",
     "text": [
      "63/63 [==============================] - 1s 5ms/step\n"
     ]
    }
   ],
   "source": [
    "from sklearn.metrics import confusion_matrix\n",
    "\n",
    "y_pred = model.predict(x_test)\n",
    "y_pred = np.argmax(y_pred, axis=1)\n",
    "\n",
    "conf_mat = confusion_matrix(y_test, y_pred)\n"
   ]
  },
  {
   "cell_type": "code",
   "execution_count": 29,
   "metadata": {
    "colab": {
     "base_uri": "https://localhost:8080/"
    },
    "id": "z4ahpCr92gEL",
    "outputId": "a640666c-359e-4c98-9c7d-17be2c7b5f8a"
   },
   "outputs": [
    {
     "name": "stdout",
     "output_type": "stream",
     "text": [
      "[[  15   13    6    0    9    0   10]\n",
      " [  11   52    6    1   21    0    8]\n",
      " [  14   10   79    1   94    0   32]\n",
      " [   0    5    2    7   10    0    0]\n",
      " [  12   16   19    2 1203    0   95]\n",
      " [   0    2    0    0    7    8    8]\n",
      " [   7    4   15    0   83    0  116]]\n"
     ]
    }
   ],
   "source": [
    "print(conf_mat)"
   ]
  },
  {
   "cell_type": "code",
   "execution_count": 30,
   "metadata": {
    "colab": {
     "base_uri": "https://localhost:8080/",
     "height": 663
    },
    "id": "vYbAXbHR-JZC",
    "outputId": "5f74222e-1ee9-4796-e147-318824c57961"
   },
   "outputs": [
    {
     "data": {
      "image/png": "[encoded data removed]",
      "text/plain": [
       "<Figure size 1000x1000 with 2 Axes>"
      ]
     },
     "metadata": {},
     "output_type": "display_data"
    }
   ],
   "source": [
    "import seaborn as sns\n",
    "import matplotlib.pyplot as plt\n",
    "fig, ax = plt.subplots(figsize=(10,10)) \n",
    "\n",
    "\n",
    "ax = sns.heatmap(conf_mat, annot=True, cmap='Blues', linewidths=.9, ax=ax)\n",
    "\n",
    "ax.set_title('Confusion Matrix with labels\\n\\n');\n",
    "\n",
    "ax.set_xlabel('\\nPredicted Values')\n",
    "\n",
    "ax.set_ylabel('Actual Values ');\n",
    "\n",
    "ax.xaxis.set_ticklabels(['0','1','2','3','4','5','6'])\n",
    "\n",
    "ax.yaxis.set_ticklabels(['0','1','2','3','4','5','6'])\n",
    "\n",
    "plt.show()"
   ]
  },
  {
   "cell_type": "code",
   "execution_count": 31,
   "metadata": {
    "colab": {
     "base_uri": "https://localhost:8080/",
     "height": 663
    },
    "id": "LSI3BUvg2o4R",
    "outputId": "e5b749b9-f01f-49ab-ef93-f754e48bce07"
   },
   "outputs": [
    {
     "data": {
      "image/png": "[encoded data removed]",
      "text/plain": [
       "<Figure size 1000x1000 with 2 Axes>"
      ]
     },
     "metadata": {},
     "output_type": "display_data"
    }
   ],
   "source": [
    "import seaborn as sns\n",
    "import matplotlib.pyplot as plt\n",
    "fig, ax = plt.subplots(figsize=(10,10)) \n",
    "\n",
    "\n",
    "ax = sns.heatmap(conf_mat/np.sum(conf_mat), annot=True, fmt='.2%', cmap='Blues', linewidths=.9, ax=ax)\n",
    "\n",
    "ax.set_title('Confusion Matrix with labels\\n\\n');\n",
    "\n",
    "ax.set_xlabel('\\nPredicted Values')\n",
    "\n",
    "ax.set_ylabel('Actual Values ');\n",
    "\n",
    "ax.xaxis.set_ticklabels(['0','1','2','3','4','5','6'])\n",
    "\n",
    "ax.yaxis.set_ticklabels(['0','1','2','3','4','5','6'])\n",
    "\n",
    "plt.show()"
   ]
  },
  {
   "cell_type": "code",
   "execution_count": 35,
   "metadata": {
    "colab": {
     "base_uri": "https://localhost:8080/"
    },
    "id": "tBWa4PFe8qCQ",
    "outputId": "bbda8134-01c6-41a7-f042-ea382666cce9"
   },
   "outputs": [
    {
     "name": "stdout",
     "output_type": "stream",
     "text": [
      "1/1 [==============================] - 0s 140ms/step\n",
      "[5.6885332e-05 9.8945320e-01 1.9135882e-04 9.6387539e-06 9.9788234e-03\n",
      " 1.4548721e-04 1.6455859e-04]\n",
      "('bcc', 'basal cell carcinoma')\n"
     ]
    }
   ],
   "source": [
    "#https://pillow.readthedocs.io/en/stable/\n",
    "\n",
    "import PIL\n",
    "\n",
    "image=PIL.Image.open('testcancerimage.jpeg')\n",
    "\n",
    "image=image.resize((28,28))\n",
    "\n",
    "img=x_test[1]\n",
    "\n",
    "img=np.array(image).reshape(-1,28,28,3)\n",
    "\n",
    "result=model.predict(img)\n",
    "\n",
    "print(result[0])\n",
    "\n",
    "result=result.tolist()\n",
    "\n",
    "max_prob=max(result[0])\n",
    "\n",
    "class_ind=result[0].index(max_prob)\n",
    "\n",
    "print(classes[class_ind])"
   ]
  },
  {
   "cell_type": "code",
   "execution_count": 36,
   "metadata": {},
   "outputs": [
    {
     "name": "stdout",
     "output_type": "stream",
     "text": [
      "1/1 [==============================] - 0s 31ms/step\n",
      "('bcc', 'basal cell carcinoma')\n"
     ]
    },
    {
     "data": {
      "image/png": "[encoded data removed]",
      "text/plain": [
       "<Figure size 640x480 with 1 Axes>"
      ]
     },
     "metadata": {},
     "output_type": "display_data"
    }
   ],
   "source": [
    "import PIL\n",
    "import numpy as np\n",
    "import matplotlib.pyplot as plt\n",
    "\n",
    "# Load and preprocess the image\n",
    "image = PIL.Image.open('testcancerimage.jpeg')\n",
    "image = image.resize((28, 28))\n",
    "img = np.array(image).reshape(-1, 28, 28, 3)\n",
    "\n",
    "# Assuming 'model' and 'classes' are defined and available in your environment\n",
    "# Predict the class of the image\n",
    "result = model.predict(img)\n",
    "result = result.tolist()\n",
    "\n",
    "# Find the class with the highest probability\n",
    "max_prob = max(result[0])\n",
    "class_ind = result[0].index(max_prob)\n",
    "\n",
    "# Print the predicted class\n",
    "print(classes[class_ind])\n",
    "\n",
    "# Display the input image\n",
    "plt.imshow(image)\n",
    "plt.title(f\"Predicted class: {classes[class_ind]}\")\n",
    "plt.show()\n"
   ]
  },
  {
   "cell_type": "code",
   "execution_count": null,
   "metadata": {},
   "outputs": [],
   "source": []
  }
 ],
 "metadata": {
  "accelerator": "GPU",
  "colab": {
   "collapsed_sections": [],
   "name": "Skin_Cancer_Detection.ipynb",
   "provenance": []
  },
  "kaggle": {
   "accelerator": "none",
   "dataSources": [
    {
     "datasetId": 54339,
     "sourceId": 104884,
     "sourceType": "datasetVersion"
    },
    {
     "datasetId": 3803005,
     "sourceId": 6596615,
     "sourceType": "datasetVersion"
    },
    {
     "datasetId": 3940127,
     "sourceId": 6854803,
     "sourceType": "datasetVersion"
    },
    {
     "datasetId": 3945272,
     "sourceId": 6864583,
     "sourceType": "datasetVersion"
    }
   ],
   "dockerImageVersionId": 30558,
   "isGpuEnabled": false,
   "isInternetEnabled": false,
   "language": "python",
   "sourceType": "notebook"
  },
  "kernelspec": {
   "display_name": "Python 3 (ipykernel)",
   "language": "python",
   "name": "python3"
  },
  "language_info": {
   "codemirror_mode": {
    "name": "ipython",
    "version": 3
   },
   "file_extension": ".py",
   "mimetype": "text/x-python",
   "name": "python",
   "nbconvert_exporter": "python",
   "pygments_lexer": "ipython3",
   "version": "3.10.13"
  }
 },
 "nbformat": 4,
 "nbformat_minor": 4
}
